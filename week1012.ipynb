{
 "cells": [
  {
   "cell_type": "markdown",
   "metadata": {},
   "source": [
    "# exercise3"
   ]
  },
  {
   "cell_type": "code",
   "execution_count": 1,
   "metadata": {},
   "outputs": [
    {
     "ename": "NameError",
     "evalue": "name 'training_result' is not defined",
     "output_type": "error",
     "traceback": [
      "\u001b[1;31m---------------------------------------------------------------------------\u001b[0m",
      "\u001b[1;31mNameError\u001b[0m                                 Traceback (most recent call last)",
      "\u001b[1;32m<ipython-input-1-f656cbd7dbbd>\u001b[0m in \u001b[0;36m<module>\u001b[1;34m()\u001b[0m\n\u001b[1;32m----> 1\u001b[1;33m \u001b[0mnum_rows\u001b[0m \u001b[1;33m=\u001b[0m \u001b[0mtraining_result\u001b[0m\u001b[1;33m[\u001b[0m\u001b[1;34m'prediction'\u001b[0m\u001b[1;33m]\u001b[0m\u001b[1;33m.\u001b[0m\u001b[0mcount\u001b[0m\u001b[1;33m(\u001b[0m\u001b[1;33m)\u001b[0m\u001b[1;33m\u001b[0m\u001b[0m\n\u001b[0m\u001b[0;32m      2\u001b[0m \u001b[0mnum_incorrect\u001b[0m \u001b[1;33m=\u001b[0m \u001b[0mnum_rows\u001b[0m \u001b[1;33m-\u001b[0m \u001b[0msum\u001b[0m\u001b[1;33m(\u001b[0m\u001b[0mtraining_result\u001b[0m\u001b[1;33m[\u001b[0m\u001b[1;34m'prediction'\u001b[0m\u001b[1;33m]\u001b[0m\u001b[1;33m==\u001b[0m \u001b[0mtraining_result\u001b[0m\u001b[1;33m[\u001b[0m\u001b[1;34m'class'\u001b[0m\u001b[1;33m]\u001b[0m\u001b[1;33m)\u001b[0m\u001b[1;33m\u001b[0m\u001b[0m\n\u001b[0;32m      3\u001b[0m \u001b[0mpercentage\u001b[0m \u001b[1;33m=\u001b[0m \u001b[0mnum_incorrect\u001b[0m\u001b[1;33m/\u001b[0m\u001b[0mnum_rows\u001b[0m\u001b[1;33m\u001b[0m\u001b[0m\n\u001b[0;32m      4\u001b[0m \u001b[0mpercentage\u001b[0m\u001b[1;33m\u001b[0m\u001b[0m\n",
      "\u001b[1;31mNameError\u001b[0m: name 'training_result' is not defined"
     ]
    }
   ],
   "source": [
    "num_rows = training_result['prediction'].count()\n",
    "num_incorrect = num_rows - sum(training_result['prediction']== training_result['class'])\n",
    "percentage = num_incorrect/num_rows\n",
    "percentage"
   ]
  },
  {
   "cell_type": "markdown",
   "metadata": {},
   "source": [
    "# exercise4\n"
   ]
  },
  {
   "cell_type": "code",
   "execution_count": null,
   "metadata": {},
   "outputs": [],
   "source": [
    "# question1\n",
    "\n",
    "import pandas as pd\n",
    "users = pd.read_csv(\"data/Wholesale customers data.csv\")\n",
    "users.head()\n",
    "\n",
    "# question 2\n",
    "users['sum'] = users['Fresh'] + users['Milk']+users['Grocery'] + users['Frozen']+users['Detergents_Paper']+users['Delicassen']\n",
    "users.head()\n",
    "\n",
    "users.describe()\n",
    "\n",
    "\n",
    "# question3\n",
    "\n",
    "import matplotlib.pyplot as plt\n",
    "x = users[\"Channel\"]\n",
    "y = users[\"Grocery\"]\n",
    "users[\"Region\"]\n",
    "colors = {3:'red', 2:'blue', 1:'green'}\n",
    "\n",
    "plt.scatter(x, y, c = users[\"Region\"].apply(lambda x: colors[x]))\n",
    "\n",
    "\n",
    "plt.xlabel('Channel')\n",
    "plt.ylabel('Grocery')\n",
    "\n",
    "\n",
    "plt.show()\n",
    "\n",
    "\n",
    "#question4\n",
    "\n",
    "from sklearn import tree\n",
    "\n",
    "attributes = users[[\"Fresh\",\"Milk\",\"Grocery\",\"Frozen\",\"Detergents_Paper\",\"Delicassen\",\"sum\"]]\n",
    "target = users[[\"Region\"]]\n",
    "\n",
    "clf = tree.DecisionTreeClassifier(criterion='entropy')\n",
    "clf = clf.fit(attributes,target)\n",
    "clf.predict([[1,1,1,1,1,1,1]])\n",
    "prediction = clf.predict(attributes)\n",
    "prediction_df = pd.DataFrame({\"prediction\": prediction})\n",
    "prediction_df.head()\n",
    "training_result = pd.concat([prediction_df, target], axis=1)\n",
    "training_result.head()\n",
    "\n",
    "num_rows = training_result['prediction'].count()\n",
    "num_incorrect = num_rows - sum(training_result['prediction']== training_result['Region'])\n",
    "percentage = num_incorrect/num_rows\n",
    "percentage\n",
    "\n",
    "attributes_training = attributes[attributes.index % 2 != 0]  \n",
    "\n",
    "target_training = target[target.index % 2 != 0] \n",
    "\n",
    "# learn the decision tree\n",
    "clf2 = tree.DecisionTreeClassifier(criterion='entropy')\n",
    "clf2 = clf.fit(attributes_training,target_training)\n",
    "attributes_test = attributes[attributes.index % 2 != 1]  \n",
    "\n",
    "prediction = clf.predict(attributes_test)\n",
    "prediction_df_1 = pd.DataFrame({\"prediction\": prediction})\n",
    "\n",
    "actual_class_test = target[target.index % 2 != 1]\n",
    "actual_class_test.index=range(220)\n",
    "\n",
    "training_result = pd.concat([prediction_df_1, actual_class_test], axis=1)\n",
    "\n",
    "training_result\n",
    "\n",
    "num_rows = training_result['prediction'].count()\n",
    "num_incorrect = num_rows - sum(training_result['prediction']== training_result['Region'])\n",
    "percentage = (num_incorrect/num_rows)*100\n",
    "print(\"Error rate={:f}percent\".format(percentage))"
   ]
  },
  {
   "cell_type": "code",
   "execution_count": null,
   "metadata": {},
   "outputs": [],
   "source": []
  }
 ],
 "metadata": {
  "kernelspec": {
   "display_name": "Python 3",
   "language": "python",
   "name": "python3"
  },
  "language_info": {
   "codemirror_mode": {
    "name": "ipython",
    "version": 3
   },
   "file_extension": ".py",
   "mimetype": "text/x-python",
   "name": "python",
   "nbconvert_exporter": "python",
   "pygments_lexer": "ipython3",
   "version": "3.7.0"
  }
 },
 "nbformat": 4,
 "nbformat_minor": 2
}
