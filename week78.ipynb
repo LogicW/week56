{
 "cells": [
  {
   "cell_type": "markdown",
   "metadata": {},
   "source": [
    "# theoryQuestion\n"
   ]
  },
  {
   "cell_type": "markdown",
   "metadata": {},
   "source": [
    "## Q1"
   ]
  },
  {
   "cell_type": "markdown",
   "metadata": {},
   "source": [
    "1.Since the individual domain is not proposed in this question, the total individual domain is used. assume M(x) : x is a people. assume F(x) : x with black hair. That can be written x(M(x)⇒F(x)): assume a is a girl with blonde hair, that is M(a) is true,F(a) is false. so M(a)⇒F(a) is false, Therefore Propositional is false."
   ]
  },
  {
   "cell_type": "markdown",
   "metadata": {},
   "source": [
    "2.assume G(x) : x boarded the moon. Propositional symbolization as x(M(x)∧G(x)). assume a is an American who completed the Apollo program on the moon in 1969. that is M(a)∧G(a) is true. Therefore Propositional is true.\n"
   ]
  },
  {
   "cell_type": "markdown",
   "metadata": {},
   "source": [
    "3.assume H(x) : x boarded the Jupiter. Propositional symbolization as ￢x(M(x)∧H(x)). No one has boarded Jupiter so far. assume anyone is a,then M(a) ∧H(a) of all is false. Therefore x(M(x)∧H(x)) is false. so Propositional is true. "
   ]
  },
  {
   "cell_type": "markdown",
   "metadata": {},
   "source": [
    "4.assume F(x) : x is a student studying in the US. G(x) : x is Asian. Propositional symbolization as ￢x(F(x)⇒G(x)). Therefore Propositional is true."
   ]
  },
  {
   "cell_type": "markdown",
   "metadata": {},
   "source": [
    "## Q2"
   ]
  },
  {
   "cell_type": "markdown",
   "metadata": {},
   "source": [
    "1.Tautology\n",
    "\n",
    "2.Contradiction\n",
    "\n",
    "3.None of both"
   ]
  },
  {
   "cell_type": "markdown",
   "metadata": {},
   "source": [
    "## Q3"
   ]
  },
  {
   "cell_type": "markdown",
   "metadata": {},
   "source": [
    "1.False\n",
    "\n",
    "2.True\n",
    "\n",
    "3.True\n",
    "\n",
    "4.True\n",
    "\n",
    "5.False"
   ]
  },
  {
   "cell_type": "markdown",
   "metadata": {},
   "source": [
    "## Q4\n"
   ]
  },
  {
   "cell_type": "markdown",
   "metadata": {},
   "source": [
    "P^(Q=>R)=>S -(P^(-Q∨R))∨S -(PV-(-Q∨R))∨S -(PV-(--Q^-R))∨S -(PV-(Q^-R))∨S -PVSV(Q^-R) (-PVSVQ)^(-PVSV-R)"
   ]
  },
  {
   "cell_type": "markdown",
   "metadata": {},
   "source": [
    "## Q5"
   ]
  },
  {
   "cell_type": "markdown",
   "metadata": {},
   "source": [
    "1.∀ x Even(x) <=> ∃ y x=y+y\n",
    "\n",
    "2.∀x Prime(x)<=> ∀y, zx=y xz =>y=1vz=1\n",
    "\n",
    "3.∀x Even(x) =>∃ y,z Prime(y)^Prime(z)^x=y+z"
   ]
  }
 ],
 "metadata": {
  "kernelspec": {
   "display_name": "Python 3",
   "language": "python",
   "name": "python3"
  },
  "language_info": {
   "codemirror_mode": {
    "name": "ipython",
    "version": 3
   },
   "file_extension": ".py",
   "mimetype": "text/x-python",
   "name": "python",
   "nbconvert_exporter": "python",
   "pygments_lexer": "ipython3",
   "version": "3.7.0"
  }
 },
 "nbformat": 4,
 "nbformat_minor": 2
}
