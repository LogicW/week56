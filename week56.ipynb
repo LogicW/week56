{
 "cells": [
  {
   "cell_type": "code",
   "execution_count": 1,
   "metadata": {},
   "outputs": [
    {
     "ename": "SyntaxError",
     "evalue": "invalid syntax (<ipython-input-1-680f66b5d6fa>, line 1)",
     "output_type": "error",
     "traceback": [
      "\u001b[1;36m  File \u001b[1;32m\"<ipython-input-1-680f66b5d6fa>\"\u001b[1;36m, line \u001b[1;32m1\u001b[0m\n\u001b[1;33m    Question1:\u001b[0m\n\u001b[1;37m              ^\u001b[0m\n\u001b[1;31mSyntaxError\u001b[0m\u001b[1;31m:\u001b[0m invalid syntax\n"
     ]
    }
   ],
   "source": [
    "Question1:\n",
    "a.\tTrue\n",
    "b.\tFalse\n",
    "c.\tFalse\n"
   ]
  },
  {
   "cell_type": "code",
   "execution_count": null,
   "metadata": {},
   "outputs": [],
   "source": [
    "Question2:\n",
    "Constraint satisfaction:\n",
    "The techniques used in constraint satisfaction depend on the kind of constraints being considered.\n",
    " backtracking search: Backtracking search is a kind of depth-first search (DFS). For a certain search tree (search tree is the role of recording path and state judgment), backtracking and DFS, the main difference is that backtracking method is not in the solution process. The complete tree structure is preserved, while the depth-first search records the complete search tree.\n",
    "arc consistency:A directed arc from variable A to variable B in a CSP is arc consistent if, for every value in the current domain of A, there is some consistent value of B.\n",
    "backjumping:Backjumping is a way of making backtracking search more efficient, by jumping back more than one level when a dead end is reached.\n",
    "Min-conflicts is a heuristic for use with local search on CSP problems. The heuristic says that, when given a variable to modify, choose the value that conflicts with the fewest number of other variables.\n",
    "cycle cutset: A cycle cutset is a set of variables which when removed from the constraint graph make it acyclic (i.e., a tree). When the variables of a cycle cutset are instantiated the remainder of the CSP can be solved in linear time.\n"
   ]
  },
  {
   "cell_type": "code",
   "execution_count": null,
   "metadata": {},
   "outputs": [],
   "source": [
    "Question 3:\n",
    "The most constrained variable makes sense because it chooses a variable that is (all other things being equal) likely to cause a failure, and it is more efficient to fail as early as possible (thereby pruning large parts of the search space). The least constraining value heuristic makes sense because it allows the most chances for future assignments to avoid conflict.\n",
    "\n"
   ]
  },
  {
   "cell_type": "code",
   "execution_count": null,
   "metadata": {},
   "outputs": [],
   "source": [
    "Question 4:\n",
    "1、Generate some dice-roll sequences (say, 50) down to a suitable depth (say, 8).\n",
    "2、With known dice rolls, the game tree becomes deterministic. For each dice-roll sequence,solve the resulting deterministic game tree using alpha-beta.\n",
    "3、Use the results to estimate the value of each move and to choose the best.Will this procedure work well? Why (or why not)?\n"
   ]
  },
  {
   "cell_type": "code",
   "execution_count": null,
   "metadata": {},
   "outputs": [],
   "source": [
    "code homework"
   ]
  },
  {
   "cell_type": "code",
   "execution_count": null,
   "metadata": {},
   "outputs": [],
   "source": [
    "question1"
   ]
  },
  {
   "cell_type": "code",
   "execution_count": null,
   "metadata": {},
   "outputs": [],
   "source": [
    "import random\n",
    "\n",
    "print(\"Welcome to GuessNumber game! Please input the number from zero to one hundred: \")\n",
    "b = random.randint(0,100)\n",
    "# print b\n",
    "a = input()\n",
    "if a == b:\n",
    "    print(\"Congratulations my lucky dog!\")\n",
    "while(a!=b):\n",
    "    if(a > b):\n",
    "        print(\"smaller than \" + str(a) + \"  ,please input again.\")\n",
    "        a = input()\n",
    "    else:\n",
    "        print(\"bigger than \" + str(a) + \" ,please input again.\")\n",
    "        a = input()\n",
    "    if a == b:\n",
    "        print(\"Congratulations baby, that's right.\")\n"
   ]
  },
  {
   "cell_type": "code",
   "execution_count": null,
   "metadata": {},
   "outputs": [],
   "source": [
    "question 2"
   ]
  },
  {
   "cell_type": "code",
   "execution_count": null,
   "metadata": {},
   "outputs": [
    {
     "name": "stdout",
     "output_type": "stream",
     "text": [
      "Welcome to GuessNumber game!  There are three number, please Guess what it is.\n",
      "The clue I give is:\n",
      "When I say:                           It means:\n",
      "Error                                 The three number are not in mystical number\n",
      "Only the number is correct            The number is right, but the position is wrong.\n",
      "Absofuckinglutely right               Number is right and the position also right\n",
      "\n",
      "['6', '3', '10']\n",
      "this is the 1 time\n"
     ]
    }
   ],
   "source": [
    "import random\n",
    "print(\"Welcome to GuessNumber game!  There are three number, please Guess what it is.\")\n",
    "print(\"The clue I give is:\")\n",
    "print(\"When I say:                           It means:\")\n",
    "print(\"Error                                 The three number are not in mystical number\")\n",
    "print(\"Only the number is correct            The number is right, but the position is wrong.\")\n",
    "print(\"Absofuckinglutely right               Number is right and the position also right\")\n",
    "print(\"\")\n",
    "A = []\n",
    "B = [0 for i in range(3)]\n",
    "C = [0]*3\n",
    "T = 10\n",
    "for i in range(0,3):\n",
    "    x = str(random.randint(1,10))\n",
    "    A.append(x)\n",
    "print(A)\n",
    "\n",
    "str1 = \"Error.\"\n",
    "str2 = \"Only the number is correct \"\n",
    "str3 = \" Absolutely right. \"\n",
    "\n",
    "while(T>0):\n",
    "    print(\"this is the \"+str(11-T) + \" time\")\n",
    "    for i in range(0, 3):\n",
    "        y = input()\n",
    "        B[i] = y\n",
    "    print(B)\n",
    "    m = 0\n",
    "    for i in range(0, 3):\n",
    "        n = 0\n",
    "        for j in range(0, 3):\n",
    "            if B[i] == A[j]:\n",
    "                n = n+1\n",
    "\n",
    "        if A[i] == B[i]:\n",
    "            n = n+1\n",
    "        if n == 2:\n",
    "            C[i] = str3\n",
    "        if n == 1:\n",
    "            C[i] = str2\n",
    "        if n == 0:\n",
    "            C[i] = str1\n",
    "\n",
    "    for k in range(0,3):\n",
    "        if C[k] == str3:\n",
    "            m = m+1\n",
    "    if m == 3:\n",
    "        print(\"Congratulations!\")\n",
    "        break\n",
    "    print(C)\n",
    "    T = T-1\n"
   ]
  },
  {
   "cell_type": "code",
   "execution_count": null,
   "metadata": {},
   "outputs": [],
   "source": [
    "question 3"
   ]
  },
  {
   "cell_type": "code",
   "execution_count": null,
   "metadata": {},
   "outputs": [],
   "source": [
    "import tkinter as tk\n",
    "\n",
    "top =tk.Tk()\n",
    "label = tk.Label(top, text='hello world!')\n",
    "label.pack()\n",
    "tk.mainloop()\n"
   ]
  },
  {
   "cell_type": "code",
   "execution_count": null,
   "metadata": {},
   "outputs": [],
   "source": [
    "question 4"
   ]
  },
  {
   "cell_type": "code",
   "execution_count": null,
   "metadata": {},
   "outputs": [],
   "source": [
    "from tkinter import *\n",
    "\n",
    "\n",
    "\n",
    "class Calculator(Frame):\n",
    "     def __init__(self):\n",
    "        Frame.__init__(self)\n",
    "        self.pack(expand=YES, fill=BOTH)\n",
    "        self.master.title('calculator')\n",
    "        self.master.rowconfigure( 0, weight = 1 )\n",
    "        self.master.columnconfigure( 0, weight = 1 )\n",
    "        self.grid( sticky = W+E+N+S )\n",
    "\n",
    "        display = StringVar()\n",
    "\n",
    "\n",
    "        entry = Entry(self, relief=SUNKEN, textvariable=display)\n",
    "        entry.grid(row=0, column=0, columnspan=4, sticky=W+E+N+S)\n",
    "\n",
    "\n",
    "        grid = '789+456-123*0./='\n",
    "        for index,textChar in enumerate(grid):\n",
    "            a = Button(self, text=textChar, width=5, command=lambda text=textChar:display.set(display.get() + text))\n",
    "            a.grid(row=1+index//4, column=index%4)\n",
    "            button_text = a.cget(\"text\")\n",
    "\n",
    "            if button_text == '=':\n",
    "                a.config(command=lambda:display.set(eval(display.get())))\n",
    "\n",
    "\n",
    "        b = Button(self, text=\"clear\", width=20, command=lambda:display.set(\"\"))\n",
    "        b.grid(row=7, column=0, columnspan=4, sticky=W+E+N+S)\n",
    "\n",
    "\n",
    "\n",
    "if __name__ == '__main__':\n",
    "    Calculator().mainloop()\n"
   ]
  },
  {
   "cell_type": "code",
   "execution_count": null,
   "metadata": {},
   "outputs": [],
   "source": [
    "question 5"
   ]
  },
  {
   "cell_type": "code",
   "execution_count": null,
   "metadata": {},
   "outputs": [],
   "source": [
    "from tkinter import *\n",
    "import time\n",
    "import random\n",
    "tk=Tk()        #创建一个界面\n",
    "tk.title(\"弹球游戏\")\n",
    "canvas=Canvas(tk,width=800,height=600,bg=\"skyblue\",bd=0,highlightthickness = 0)\n",
    "tk.resizable(0,0)\n",
    "canvas.pack()\n",
    "tk.update()\n",
    "class Ball:\n",
    "    def __init__(self,canvas,paddle,color):\n",
    "        self.canvas=canvas\n",
    "        self.paddle=paddle\n",
    "        self.id=canvas.create_oval(10,10,25,25,fill=color)\n",
    "        self.canvas.move(self.id,240,100)\n",
    "        stat=[-3,-2,-1,1,2,3]\n",
    "        random.shuffle(stat)\n",
    "        self.x=stat[0]\n",
    "        self.y=-3\n",
    "        self.canvas_height=self.canvas.winfo_height()  #高度\n",
    "        self.canvas_width=self.canvas.winfo_width()\n",
    "        self.hit_bottom=False\n",
    "    def hit_paddle(self, pos):       #输赢\n",
    "        paddle_pos = self.canvas.coords(self.paddle.id )\n",
    "        if pos[2]>= paddle_pos[0] and pos[0]<= paddle_pos[2]:\n",
    "            if pos[3]>= paddle_pos[1] and pos[3]<= paddle_pos[3]:\n",
    "                return True\n",
    "        return False\n",
    "    def draw(self): #移动\n",
    "        self.canvas.move(self.id,self.x,self.y)\n",
    "        pos=self.canvas.coords(self.id)\n",
    "        if pos[1]<=0:  #判断小球是否碰到边框\n",
    "            self.y=3\n",
    "        if pos[3]>=self.canvas_height:  #判断球拍是否有接到球\n",
    "            self.hit_bottom=True\n",
    "        if self.hit_paddle(pos)==True:  #判断求是否碰到了球拍\n",
    "            self.y=-3\n",
    "        if pos[0]<=0:\n",
    "            self.x=3\n",
    "        if pos[2]>=self.canvas_width:\n",
    "            self.x=-3\n",
    "class Paddle: #球拍的的类\n",
    "    def __init__(self,canvans,color):\n",
    "        self.canvas=canvas\n",
    "        self.id=canvas.create_rectangle(0,0,150,10,fill=color)\n",
    "        self.canvas.move(self.id,400,450)\n",
    "        self.x=0\n",
    "        self.canvas_width=self.canvas.winfo_width()\n",
    "        self.canvas.bind_all(\"<KeyPress-Left>\",self.turn_left)\n",
    "        self.canvas.bind_all(\"<KeyPress-Right>\", self.turn_right)\n",
    "    def turn_left(self,event):\n",
    "        self.x=-5\n",
    "    def turn_right(self,event):\n",
    "        self.x=5\n",
    "    def draw(self):\n",
    "        pos=self.canvas.coords(self.id)\n",
    "        self.canvas.move(self.id, self.x, 0)\n",
    "        if pos[0]<=0:\n",
    "            self.x=0\n",
    "        if pos[2]>=self.canvas_width:\n",
    "            self.x=0\n",
    "paddle=Paddle(canvas,\"blue\")\n",
    "ball=Ball(canvas,paddle,\"red\")\n",
    "while True:\n",
    "    if ball.hit_bottom==False:\n",
    "        ball.draw()\n",
    "        paddle.draw()\n",
    "    else:\n",
    "        break\n",
    "    tk.update_idletasks()\n",
    "    tk.update()\n",
    "    time.sleep(0.01)\n"
   ]
  }
 ],
 "metadata": {
  "kernelspec": {
   "display_name": "Python 3",
   "language": "python",
   "name": "python3"
  },
  "language_info": {
   "codemirror_mode": {
    "name": "ipython",
    "version": 3
   },
   "file_extension": ".py",
   "mimetype": "text/x-python",
   "name": "python",
   "nbconvert_exporter": "python",
   "pygments_lexer": "ipython3",
   "version": "3.7.0"
  }
 },
 "nbformat": 4,
 "nbformat_minor": 2
}
